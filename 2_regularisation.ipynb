{
  "cells": [
    {
      "cell_type": "markdown",
      "source": [
        "## Régularisation\n",
        "\n",
        "Les méthodes de régularisations consistent à ajouter de l'information au problème afin par exemple d'orienter l'apprentissage du modèle.\n",
        "\n",
        "Par exemple la régularisation L1 ou L2 consiste à changer la formule de la fonction de coût pour inciter l'entraînement à trouver des paramètre theta davantage proche de 0.\n",
        "\n",
        "L'objet de ce notebook est d'étudier un peu l'impact de la régularisation L1 et L2 sur les paramètre du modèle"
      ],
      "metadata": {
        "cell_id": "00000-cebb7496-0f69-446c-b00a-59a6bda06f2a",
        "deepnote_cell_type": "markdown",
        "tags": [],
        "id": "dQP_sE4_ANRZ"
      }
    },
    {
      "cell_type": "markdown",
      "source": [
        "Charger le dataset houses.csv avec pandas"
      ],
      "metadata": {
        "cell_id": "00001-2cf5e528-02a3-4f6c-b97b-6cc151b64554",
        "deepnote_cell_type": "markdown",
        "tags": [],
        "id": "V1BHPHEzANRc"
      }
    },
    {
      "cell_type": "code",
      "execution_count": null,
      "source": [
        "import pandas as pd\n",
        "from sklearn.model_selection import train_test_split\n",
        "from sklearn.linear_model import LinearRegression\n",
        "import numpy as np\n",
        "from sklearn.metrics import mean_squared_error"
      ],
      "outputs": [],
      "metadata": {
        "cell_id": "00000-ff36fa31-938f-4609-b6ce-fe0c3b2d94f9",
        "deepnote_cell_type": "code",
        "tags": [],
        "id": "aN1JigYQANRc"
      }
    },
    {
      "cell_type": "code",
      "execution_count": null,
      "source": [
        "df = pd.read_csv(\"houses.csv\")"
      ],
      "outputs": [],
      "metadata": {
        "id": "FU6P74U6ANRd"
      }
    },
    {
      "cell_type": "markdown",
      "source": [
        "Faire un train test split du dataset histoire de garder cette bonne habitude"
      ],
      "metadata": {
        "cell_id": "00003-fa5061fb-1e2a-4055-9c21-0e414a88f2ce",
        "deepnote_cell_type": "markdown",
        "tags": [],
        "id": "OSAJq_n-ANRd"
      }
    },
    {
      "cell_type": "code",
      "execution_count": null,
      "source": [
        "df1 = pd.get_dummies(df['orientation'], prefix='orientation')\n",
        "df = df.join(df1)\n"
      ],
      "outputs": [],
      "metadata": {
        "id": "kOKnqeNVANRd"
      }
    },
    {
      "cell_type": "code",
      "execution_count": null,
      "source": [
        "x=df[['size','nb_rooms','garden','orientation_Est','orientation_Nord','orientation_Ouest','orientation_Sud']]\n",
        "y=df['price']\n",
        "x_train,x_test, y_train , y_test = train_test_split(x,y,test_size=0.33, random_state=42 )"
      ],
      "outputs": [],
      "metadata": {
        "cell_id": "00004-979d7204-90c6-4794-9405-5ab2202f214e",
        "deepnote_cell_type": "code",
        "tags": [],
        "id": "dpAw9aNsANRd"
      }
    },
    {
      "cell_type": "markdown",
      "source": [
        "Faire un modèle qui prédit le prix de la maison en fonction des autres caractéristiques.\n",
        "\n",
        "Faites les éventuels traitement de donnée nécessaire."
      ],
      "metadata": {
        "cell_id": "00003-e8229b30-5010-455d-a059-57a2cebf35ba",
        "deepnote_cell_type": "markdown",
        "tags": [],
        "id": "ebSAiAIqANRe"
      }
    },
    {
      "cell_type": "code",
      "execution_count": null,
      "source": [
        "model = LinearRegression().fit(x_train, y_train)"
      ],
      "outputs": [],
      "metadata": {
        "cell_id": "00006-d7d4d38a-9e6c-4937-8973-be8bb27b3b17",
        "deepnote_cell_type": "code",
        "tags": [],
        "id": "ivKjI25tANRe"
      }
    },
    {
      "cell_type": "markdown",
      "source": [
        "Depuis le module sklearn.linear_model instancier une régression linéaire et entraîner le modèle sur les données."
      ],
      "metadata": {
        "cell_id": "00004-913da344-6106-47e1-ac8f-1025c05de3df",
        "deepnote_cell_type": "markdown",
        "tags": [],
        "id": "6PDzfDrLANRe"
      }
    },
    {
      "cell_type": "code",
      "execution_count": null,
      "source": [
        "model = LinearRegression()\n",
        "\n",
        "model.fit(x_train, y_train)"
      ],
      "outputs": [],
      "metadata": {
        "cell_id": "00008-0c7b1b1e-08d0-4540-93b5-2fe17df8dfa3",
        "deepnote_cell_type": "code",
        "tags": [],
        "id": "HCcv7WbyANRe"
      }
    },
    {
      "cell_type": "markdown",
      "source": [
        "Afficher les paramètres du modèle (ainsi que le biais) et calculer la norme du vecteur des paramètres"
      ],
      "metadata": {
        "cell_id": "00009-848e449d-e119-4b3b-82e1-bb42f3532aaa",
        "deepnote_cell_type": "markdown",
        "tags": [],
        "id": "5Gghwi5nANRe"
      }
    },
    {
      "cell_type": "code",
      "execution_count": null,
      "source": [
        "model.intercept_, model.coef_\n",
        "\n",
        "np.linalg.norm(model.coef_)"
      ],
      "outputs": [],
      "metadata": {
        "cell_id": "00010-73e6e492-7bf4-4190-ac70-878f4a50d943",
        "deepnote_cell_type": "code",
        "tags": [],
        "id": "hGpYvhUCANRe"
      }
    },
    {
      "cell_type": "markdown",
      "source": [
        "Créer un nouveau model RidgeRegression depuis le module linear_model\n",
        "\n",
        "\n",
        "Choisir alpha = 0.3 à la création du modèle (consulter la documentation)"
      ],
      "metadata": {
        "cell_id": "00011-e8da78ff-e7cf-49e9-9263-33b260099c20",
        "deepnote_cell_type": "markdown",
        "tags": [],
        "id": "Ji3FtXxYANRe"
      }
    },
    {
      "cell_type": "code",
      "execution_count": null,
      "source": [
        "from sklearn.linear_model import Ridge\n",
        "ridge = Ridge(alpha=0.3)\n"
      ],
      "outputs": [],
      "metadata": {
        "cell_id": "00012-84ce3036-6439-44e1-af8f-f3cf48d4f0a7",
        "deepnote_cell_type": "code",
        "tags": [],
        "id": "rhMejdQmANRf"
      }
    },
    {
      "cell_type": "markdown",
      "source": [
        "Entraîner le modèle à nouveau  avec alpha = 0.6 et afficher à nouveau les valeurs des paramètres et la norme. Comment cela a-t-il évoluer ?"
      ],
      "metadata": {
        "cell_id": "00013-7ef7bfc0-8308-428a-aefe-8dc8aa27c595",
        "deepnote_cell_type": "markdown",
        "tags": [],
        "id": "fIKSdS6aANRf"
      }
    },
    {
      "cell_type": "code",
      "execution_count": null,
      "source": [
        "ridge2 = Ridge(alpha=0.6)"
      ],
      "outputs": [],
      "metadata": {
        "cell_id": "00014-ec9688bb-d399-45fd-b3df-d11e1a27b750",
        "deepnote_cell_type": "code",
        "tags": [],
        "id": "3rGonwbjANRf"
      }
    },
    {
      "cell_type": "markdown",
      "source": [
        "Afficher la MSE sur le train et le test du modèle originel et du model régularisé"
      ],
      "metadata": {
        "cell_id": "00012-4c3f2936-cd7f-496e-8d79-8721a4e12da4",
        "deepnote_cell_type": "markdown",
        "tags": [],
        "id": "Q6zQMKM1ANRf"
      }
    },
    {
      "cell_type": "markdown",
      "source": [
        "Faites une boucle for qui va entraînér une dizaine de modèle différents avec alpha valant successivement les valeurs suivantes :\n",
        "\n",
        "[2, 1, 0.5, 0.2, 0.1, 0.05, 0.02, 0.01, 0.005, 0]\n",
        "\n",
        "\n",
        "Vous afficherez sur un graphique l'évolution de la norme des paramètres en fonction de alpha"
      ],
      "metadata": {
        "cell_id": "00016-f6e3afcd-8d7a-4c98-8dce-a7b633e87d3c",
        "deepnote_cell_type": "markdown",
        "tags": [],
        "id": "It5wevlHANRf"
      }
    },
    {
      "cell_type": "code",
      "execution_count": null,
      "source": [
        "def sqrt_mse(model, x, y):\n",
        "    y_pred = model.predict(x)\n",
        "    mse = mean_squared_error(y_pred, y)\n",
        "    return np.sqrt(mse)\n",
        "\n",
        "sqrt_mse(model, x_train, y_train)\n",
        "\n",
        "L = [2, 1, 0.5, 0.2, 0.1, 0.05, 0.02, 0.01, 0.005, 0]\n",
        "\n",
        "for i in L:\n",
        "    model_i = Ridge(alpha = i)\n"
      ],
      "outputs": [],
      "metadata": {
        "cell_id": "00017-2a563a36-7d7d-402f-8fb4-4f8ed4d42366",
        "deepnote_cell_type": "code",
        "tags": [],
        "id": "vK3keNdeANRf"
      }
    },
    {
      "cell_type": "markdown",
      "source": [
        "Afficher également la mse de train et la mse de test en fonction de alpha"
      ],
      "metadata": {
        "cell_id": "00017-397f54f9-6ec0-4b7a-a5e0-64ded54ef456",
        "deepnote_cell_type": "markdown",
        "tags": [],
        "id": "JFoacsnbANRf"
      }
    },
    {
      "cell_type": "code",
      "execution_count": null,
      "source": [
        "# Calculer et afficher la MSE sur le train et le test pour chaque alpha\n",
        "train_mses = []\n",
        "test_mses = []\n",
        "norm_params = []\n",
        "\n",
        "for alpha in alphas:\n",
        "    ridge_model = Ridge(alpha=alpha)\n",
        "    ridge_model.fit(x_train, y_train)\n",
        "    train_mse = mean_squared_error(ridge_model.predict(x_train), y_train)\n",
        "    test_mse = mean_squared_error(ridge_model.predict(x_test), y_test)\n",
        "    train_mses.append(train_mse)\n",
        "    test_mses.append(test_mse)\n",
        "    norm_params.append(np.linalg.norm(ridge_model.coef_))\n",
        "    print(f\"Alpha: {alpha}, Train MSE: {train_mse}, Test MSE: {test_mse}\")"
      ],
      "outputs": [],
      "metadata": {
        "cell_id": "00019-ebef55e2-cba3-47dd-a578-3ac9988f154f",
        "deepnote_cell_type": "code",
        "tags": [],
        "id": "5kes0mXkANRg"
      }
    },
    {
      "cell_type": "markdown",
      "source": [
        "Pouvez-vous expliquer l'évolution de la MSE quand on fait varier alpha ?"
      ],
      "metadata": {
        "cell_id": "00018-0dafa75a-d548-474e-973a-6a73f7cd1706",
        "deepnote_cell_type": "markdown",
        "tags": [],
        "id": "4YDFiMdAANRg"
      }
    },
    {
      "cell_type": "markdown",
      "source": [
        "L'évolution de la MSE en fonction de alpha dépend d'un compromis entre la réduction de la variance et l'augmentation du biais. Un alpha plus élevé réduit la variance mais peut augmenter le biais, tandis qu'un alpha plus faible réduit le biais mais peut augmenter la variance. Le choix optimal d'alpha dépendra du problème spécifique et de la quantité de données disponibles."
      ],
      "metadata": {
        "id": "_belFxskQkQz"
      }
    },
    {
      "cell_type": "markdown",
      "source": [
        "Coder une fonction l2_mse(X, theta, y, lambda) qui retourne la MSE régularisée selon L2\n"
      ],
      "metadata": {
        "cell_id": "00021-f9d1c055-bc84-4a18-b91a-69d8d3b8c17d",
        "deepnote_cell_type": "markdown",
        "tags": [],
        "id": "giA_mVm2ANRg"
      }
    },
    {
      "cell_type": "code",
      "execution_count": null,
      "source": [],
      "outputs": [],
      "metadata": {
        "cell_id": "00023-5b87c29b-61c4-443a-9d98-293526eb1a76",
        "deepnote_cell_type": "code",
        "tags": [],
        "id": "tMunMVTJANRg"
      }
    },
    {
      "cell_type": "markdown",
      "source": [
        "\n",
        "Calculer la loss theta = [0.5, 0.5, 0.5] et [0.4, 0.4, 0.4 ]"
      ],
      "metadata": {
        "cell_id": "00023-7bf5bbb2-ad81-4eae-b0cd-7568364a2fe9",
        "deepnote_cell_type": "markdown",
        "tags": [],
        "id": "GBhDHv1OANRg"
      }
    },
    {
      "cell_type": "code",
      "execution_count": null,
      "source": [],
      "outputs": [],
      "metadata": {
        "cell_id": "00025-4a4a21a9-7605-4541-b739-e6ece422d78f",
        "deepnote_cell_type": "code",
        "tags": [],
        "id": "s3frMT08ANRg"
      }
    },
    {
      "cell_type": "markdown",
      "source": [
        "## Régularisation l1\n",
        "\n",
        "\n",
        "On va maintenant étudier la régularisation L1\n",
        "\n",
        "La régularisation L1 ne vas pas utiliser la norme L2 mais la norme L1 du vecteurs des paramètres.\n",
        "\n",
        "On va voir quelle peut avoir un effet plus drastique.\n",
        "\n",
        "\n",
        "Avant de reprendre l'étude précédente faire en sorte de créer une nouvelle colonne size_2 qui est size * (1.5 + np.random.randn)\n",
        "\n",
        "\n",
        "L'idée est d'avoir des colonne corélée et voir l'impact de la régularisation l1\n",
        "\n",
        "\n"
      ],
      "metadata": {
        "cell_id": "00026-b84b4cbd-4871-4636-8a8b-aa1b771bc243",
        "deepnote_cell_type": "markdown",
        "tags": [],
        "id": "CC_q6UF3ANRg"
      }
    },
    {
      "cell_type": "code",
      "execution_count": null,
      "source": [],
      "outputs": [],
      "metadata": {
        "cell_id": "00027-ce20681a-e056-4939-a81e-6b61a4a9880a",
        "deepnote_cell_type": "code",
        "tags": [],
        "id": "4Nc5lEfgANRh"
      }
    },
    {
      "cell_type": "markdown",
      "source": [
        "Reprendre l'étude faite sur la régularisation l2 et entraîner plusieurs régularisation L1 avec la même variation pour alpha.\n",
        "\n",
        "Mais cette fois ci vous utiliserez https://scikit-learn.org/stable/modules/generated/sklearn.model_selection.GridSearchCV.html"
      ],
      "metadata": {
        "cell_id": "00027-346e9ba2-60eb-42cb-a725-38062308eecc",
        "deepnote_cell_type": "markdown",
        "tags": [],
        "id": "zAdT_imSANRh"
      }
    },
    {
      "cell_type": "code",
      "execution_count": null,
      "source": [],
      "outputs": [],
      "metadata": {
        "cell_id": "00030-3fa63ac1-8e69-476c-8bc1-06371775ac40",
        "deepnote_cell_type": "code",
        "tags": [],
        "id": "mSCbKFtoANRh"
      }
    },
    {
      "cell_type": "markdown",
      "source": [
        "<a style='text-decoration:none;line-height:16px;display:flex;color:#5B5B62;padding:10px;justify-content:end;' href='https://deepnote.com?utm_source=created-in-deepnote-cell&projectId=5911237d-bf07-4252-964e-d1881f596410' target=\"_blank\">\n",
        "<img alt='Created in deepnote.com' style='display:inline;max-height:16px;margin:0px;margin-right:7.5px;' src='data:image/svg+xml;base64,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' > </img>\n",
        "Created in <span style='font-weight:600;margin-left:4px;'>Deepnote</span></a>"
      ],
      "metadata": {
        "created_in_deepnote_cell": true,
        "deepnote_cell_type": "markdown",
        "tags": [],
        "id": "c9Z3X3jkANRh"
      }
    }
  ],
  "metadata": {
    "deepnote": {
      "is_reactive": false
    },
    "deepnote_execution_queue": [],
    "deepnote_notebook_id": "f72a54e9-1827-4603-85d6-62352c957063",
    "interpreter": {
      "hash": "aee8b7b246df8f9039afb4144a1f6fd8d2ca17a180786b69acc140d282b71a49"
    },
    "kernelspec": {
      "name": "python3",
      "display_name": "Python 3.9.7 64-bit"
    },
    "language_info": {
      "codemirror_mode": {
        "name": "ipython",
        "version": 3
      },
      "file_extension": ".py",
      "mimetype": "text/x-python",
      "name": "python",
      "nbconvert_exporter": "python",
      "pygments_lexer": "ipython3",
      "version": "3.9.7"
    },
    "orig_nbformat": 2,
    "colab": {
      "provenance": []
    }
  },
  "nbformat": 4,
  "nbformat_minor": 0
}